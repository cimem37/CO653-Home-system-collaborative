{
 "cells": [
  {
   "cell_type": "code",
   "execution_count": null,
   "id": "1ced97ec",
   "metadata": {},
   "outputs": [],
   "source": [
    "import numpy as np\n",
    "import skfuzzy as fuzz\n",
    "from skfuzzy import control as ctrl\n",
    "\n",
    "def setup_fuzzy_system():\n",
    "    # Example fuzzy variables\n",
    "    temperature = ctrl.Antecedent(np.arange(0, 41, 1), 'temperature')\n",
    "    humidity = ctrl.Antecedent(np.arange(0, 101, 1), 'humidity')\n",
    "    alert_level = ctrl.Consequent(np.arange(0, 11, 1), 'alert_level')\n",
    "\n",
    "    # Membership functions\n",
    "    temperature['cold'] = fuzz.trimf(temperature.universe, [0, 0, 20])\n",
    "    temperature['warm'] = fuzz.trimf(temperature.universe, [15, 25, 35])\n",
    "    temperature['hot'] = fuzz.trimf(temperature.universe, [30, 40, 40])\n",
    "\n",
    "    humidity['low'] = fuzz.trimf(humidity.universe, [0, 0, 50])\n",
    "    humidity['medium'] = fuzz.trimf(humidity.universe, [30, 50, 70])\n",
    "    humidity['high'] = fuzz.trimf(humidity.universe, [60, 100, 100])\n",
    "\n",
    "    alert_level['low'] = fuzz.trimf(alert_level.universe, [0, 0, 5])\n",
    "    alert_level['medium'] = fuzz.trimf(alert_level.universe, [3, 5, 7])\n",
    "    alert_level['high'] = fuzz.trimf(alert_level.universe, [6, 10, 10])\n",
    "\n",
    "    # Example rules\n",
    "    rule1 = ctrl.Rule(temperature['hot'] & humidity['high'], alert_level['high'])\n",
    "    rule2 = ctrl.Rule(temperature['cold'] & humidity['low'], alert_level['low'])\n",
    "\n",
    "    # Control system\n",
    "    alert_ctrl = ctrl.ControlSystem([rule1, rule2])\n",
    "    alert_sim = ctrl.ControlSystemSimulation(alert_ctrl)\n",
    "\n",
    "    return alert_sim"
   ]
  }
 ],
 "metadata": {
  "language_info": {
   "name": "python"
  }
 },
 "nbformat": 4,
 "nbformat_minor": 5
}
