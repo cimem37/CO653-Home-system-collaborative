{
 "cells": [
  {
   "cell_type": "code",
   "execution_count": 1,
   "id": "4e7de2de",
   "metadata": {},
   "outputs": [
    {
     "name": "stdout",
     "output_type": "stream",
     "text": [
      "Intelligent Home Energy Management System\n",
      "Intelligent Home Energy Management System\n"
     ]
    }
   ],
   "source": [
<<<<<<< HEAD
    "print(\"Intelligent Home Energy Management System\")\n",
    "\n",
    "print(\"Intelligent Home Energy Management System\")\n"
=======
    "print(\"Intelligent Home Energy Management System\")\n",
    "print(\"hello Uthman\")"
>>>>>>> d9258c99f8753b2f114ae07b2e320aaab7a0b5cb
   ]
  }
 ],
 "metadata": {
  "kernelspec": {
   "display_name": "Python 3",
   "language": "python",
   "name": "python3"
  },
  "language_info": {
   "codemirror_mode": {
    "name": "ipython",
    "version": 3
   },
   "file_extension": ".py",
   "mimetype": "text/x-python",
   "name": "python",
   "nbconvert_exporter": "python",
   "pygments_lexer": "ipython3",
   "version": "3.10.11"
  }
 },
 "nbformat": 4,
 "nbformat_minor": 5
}
