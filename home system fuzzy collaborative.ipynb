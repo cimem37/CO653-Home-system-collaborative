{
 "cells": [
  {
   "cell_type": "code",
   "execution_count": 1,
   "id": "4e7de2de",
   "metadata": {},
   "outputs": [
    {
     "name": "stdout",
     "output_type": "stream",
     "text": [
      "Intelligent Home Energy Management System\n"
     ]
    }
   ],
   "source": [
    "print(\"Intelligent Home Energy Management System\")\n",
    "print(\"hello Uthman\")"
   ]
  }
 ],
 "metadata": {
  "kernelspec": {
   "display_name": "Python 3 (ipykernel)",
   "language": "python",
   "name": "python3"
  }
 },
 "nbformat": 4,
 "nbformat_minor": 5
}
